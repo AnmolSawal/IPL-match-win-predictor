{
 "cells": [
  {
   "cell_type": "code",
   "execution_count": null,
   "id": "66585bf9",
   "metadata": {},
   "outputs": [],
   "source": [
    "import numpy as np \n",
    "import matplotlib.pyplot as plt\n",
    "import pandas as pd\n",
    "from sklearn.preprocessing import OneHotEncoder\n",
    "from sklearn.model_selection import train_test_split\n",
    "from sklearn.metrics import accuracy_score\n",
    "from sklearn.linear_model import LogisticRegression\n",
    "from sklearn.pipeline import Pipeline\n",
    "from sklearn.compose import ColumnTransformer"
   ]
  },
  {
   "cell_type": "code",
   "execution_count": null,
   "id": "ea14e7cb",
   "metadata": {},
   "outputs": [],
   "source": [
    "final=pd.read_csv('final_shuffled.csv')\n",
    "final.drop(columns=['Unnamed: 0'], inplace=True)"
   ]
  },
  {
   "cell_type": "code",
   "execution_count": null,
   "id": "c2a8f39e",
   "metadata": {},
   "outputs": [],
   "source": [
    "final.head(2)"
   ]
  },
  {
   "cell_type": "code",
   "execution_count": null,
   "id": "fbc806a4",
   "metadata": {},
   "outputs": [],
   "source": [
    "final.dropna(inplace=True)\n"
   ]
  },
  {
   "cell_type": "code",
   "execution_count": null,
   "id": "3f9ce657",
   "metadata": {},
   "outputs": [],
   "source": [
    "X=final.drop(columns=['result'])\n",
    "y=final['result']"
   ]
  },
  {
   "cell_type": "code",
   "execution_count": null,
   "id": "82287e1e",
   "metadata": {},
   "outputs": [],
   "source": [
    "X_train, X_test, y_train, y_test = train_test_split(X, y, test_size=0.2,random_state=2)\n",
    "X_train.shape, X_test.shape, y_train.shape, y_test.shape"
   ]
  },
  {
   "cell_type": "code",
   "execution_count": null,
   "id": "76549338",
   "metadata": {},
   "outputs": [],
   "source": [
    "preprocessing=ColumnTransformer(transformers=[('trf',OneHotEncoder(sparse_output=False , drop = 'first'),['batting_team','bowling_team','city'])\n",
    "    ],\n",
    "    remainder='passthrough')"
   ]
  },
  {
   "cell_type": "code",
   "execution_count": null,
   "id": "8005a9af",
   "metadata": {},
   "outputs": [],
   "source": [
    "model=Pipeline([\n",
    "    ('preprocessing', preprocessing),\n",
    "    ('estimator', LogisticRegression(solver='lbfgs',max_iter=4000))\n",
    "])"
   ]
  },
  {
   "cell_type": "code",
   "execution_count": null,
   "id": "76377ca6",
   "metadata": {},
   "outputs": [],
   "source": [
    "model.fit(X_train, y_train)"
   ]
  },
  {
   "cell_type": "code",
   "execution_count": null,
   "id": "2b6d4d1e",
   "metadata": {},
   "outputs": [],
   "source": [
    "y_pred=model.predict(X_test)"
   ]
  },
  {
   "cell_type": "code",
   "execution_count": null,
   "id": "b0f9cd2d",
   "metadata": {},
   "outputs": [],
   "source": [
    "accuracy_score(y_test, y_pred)"
   ]
  },
  {
   "cell_type": "code",
   "execution_count": null,
   "id": "2d3fbb4f",
   "metadata": {},
   "outputs": [],
   "source": [
    "import pickle\n",
    "pickle.dump(model,open('model.pkl','wb'))"
   ]
  }
 ],
 "metadata": {
  "kernelspec": {
   "display_name": "Python 3",
   "language": "python",
   "name": "python3"
  },
  "language_info": {
   "codemirror_mode": {
    "name": "ipython",
    "version": 3
   },
   "file_extension": ".py",
   "mimetype": "text/x-python",
   "name": "python",
   "nbconvert_exporter": "python",
   "pygments_lexer": "ipython3",
   "version": "3.12.4"
  }
 },
 "nbformat": 4,
 "nbformat_minor": 5
}
